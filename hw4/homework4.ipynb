{
 "cells": [
  {
   "cell_type": "markdown",
   "metadata": {},
   "source": [
    "#  Homework 4 - Berkeley STAT 157\n",
    "\n",
    "**Name: Mandi Zhao;\n",
    "SID 3032880866;\n",
    "teammates: Christine Giang, Salim Damerdji, Jobe Cowen\n",
    "\n",
    "\n",
    "\n",
    "\n",
    "Handout 2/12/2019, due 2/19/2019 by 4pm in Git by committing to your repository.\n",
    "\n",
    "In this homework, we will build a model based real house sale data from a [Kaggle competition](https://www.kaggle.com/c/house-prices-advanced-regression-techniques). This notebook contains codes to download the dataset, build and train a baseline model, and save the results in the submission format. Your jobs are \n",
    "\n",
    "1. Developing a better model to reduce the prediction error. You can find some hints on the last section. \n",
    "\n",
    "2. Submitting your results into Kaggle and take a sceenshot of your score. Then replace the following image URL with your screenshot.\n",
    "\n",
    "![](score.png)\n",
    "\n",
    "We have two suggestions for this homework:\n",
    "\n",
    "1. Start as earlier as possible. Though we will cover this notebook on Thursday's lecture, tuning hyper-parameters takes time, and Kaggle limits #submissions per day.\n",
    "2. Work with your project teammates. It's a good opportunity to get familiar with each other. \n",
    "\n",
    "Your scores will depend your positions on Kaggle's Leaderboard. We will award the top-3 teams/individuals 500 AWS credits.\n",
    "\n",
    "## Accessing and Reading Data Sets\n",
    "\n",
    "The competition data is separated into training and test sets. Each record includes the property values of the house and attributes such as street type, year of construction, roof type, basement condition. The data includes multiple datatypes, including integers (year of construction), discrete labels (roof type), floating point numbers, etc.; Some data is missing and is thus labeled 'na'. The price of each house, namely the label, is only included in the training data set (it's a competition after all). The 'Data' tab on the competition tab has links to download the data.\n",
    "\n",
    "We will read and process the data using `pandas`, an [efficient data analysis toolkit](http://pandas.pydata.org/pandas-docs/stable/). Make sure you have `pandas` installed for the experiments in this section."
   ]
  },
  {
   "cell_type": "code",
   "execution_count": 19,
   "metadata": {
    "ExecuteTime": {
     "end_time": "2019-02-12T19:52:59.411749Z",
     "start_time": "2019-02-12T19:52:28.081528Z"
    },
    "attributes": {
     "classes": [],
     "id": "",
     "n": "3"
    },
    "scrolled": true
   },
   "outputs": [],
   "source": [
    "# If pandas is not installed, please uncomment the following line:\n",
    "# !pip install pandas\n",
    "\n",
    "%matplotlib inline\n",
    "import d2l\n",
    "from mxnet import autograd, gluon, init, nd\n",
    "from mxnet.gluon import data as gdata, loss as gloss, nn, utils\n",
    "import numpy as np\n",
    "import pandas as pd"
   ]
  },
  {
   "cell_type": "markdown",
   "metadata": {},
   "source": [
    "We downloaded the data into the current directory. To load the two CSV (Comma Separated Values) files containing training and test data respectively we use Pandas."
   ]
  },
  {
   "cell_type": "code",
   "execution_count": 2,
   "metadata": {
    "ExecuteTime": {
     "end_time": "2019-02-12T19:52:59.907368Z",
     "start_time": "2019-02-12T19:52:59.418639Z"
    },
    "attributes": {
     "classes": [],
     "id": "",
     "n": "14"
    }
   },
   "outputs": [],
   "source": [
    "utils.download('https://github.com/d2l-ai/d2l-en/raw/master/data/kaggle_house_pred_train.csv')\n",
    "utils.download('https://github.com/d2l-ai/d2l-en/raw/master/data/kaggle_house_pred_test.csv')\n",
    "train_data = pd.read_csv('kaggle_house_pred_train.csv')\n",
    "test_data = pd.read_csv('kaggle_house_pred_test.csv')"
   ]
  },
  {
   "cell_type": "markdown",
   "metadata": {},
   "source": [
    "The training data set includes 1,460 examples, 80 features, and 1 label., the test data contains 1,459 examples and 80 features."
   ]
  },
  {
   "cell_type": "code",
   "execution_count": 3,
   "metadata": {
    "ExecuteTime": {
     "end_time": "2019-02-12T19:52:59.938906Z",
     "start_time": "2019-02-12T19:52:59.914530Z"
    },
    "attributes": {
     "classes": [],
     "id": "",
     "n": "11"
    }
   },
   "outputs": [
    {
     "name": "stdout",
     "output_type": "stream",
     "text": [
      "(1460, 81)\n",
      "(1459, 80)\n"
     ]
    }
   ],
   "source": [
    "print(train_data.shape)\n",
    "print(test_data.shape)"
   ]
  },
  {
   "cell_type": "markdown",
   "metadata": {},
   "source": [
    "Let’s take a look at the first 4 and last 2 features as well as the label (SalePrice) from the first 4 examples:"
   ]
  },
  {
   "cell_type": "code",
   "execution_count": 4,
   "metadata": {
    "ExecuteTime": {
     "end_time": "2019-02-12T19:53:00.162068Z",
     "start_time": "2019-02-12T19:52:59.951154Z"
    },
    "attributes": {
     "classes": [],
     "id": "",
     "n": "28"
    }
   },
   "outputs": [
    {
     "data": {
      "text/html": [
       "<div>\n",
       "<style scoped>\n",
       "    .dataframe tbody tr th:only-of-type {\n",
       "        vertical-align: middle;\n",
       "    }\n",
       "\n",
       "    .dataframe tbody tr th {\n",
       "        vertical-align: top;\n",
       "    }\n",
       "\n",
       "    .dataframe thead th {\n",
       "        text-align: right;\n",
       "    }\n",
       "</style>\n",
       "<table border=\"1\" class=\"dataframe\">\n",
       "  <thead>\n",
       "    <tr style=\"text-align: right;\">\n",
       "      <th></th>\n",
       "      <th>Id</th>\n",
       "      <th>MSSubClass</th>\n",
       "      <th>MSZoning</th>\n",
       "      <th>LotFrontage</th>\n",
       "      <th>SaleType</th>\n",
       "      <th>SaleCondition</th>\n",
       "      <th>SalePrice</th>\n",
       "    </tr>\n",
       "  </thead>\n",
       "  <tbody>\n",
       "    <tr>\n",
       "      <th>0</th>\n",
       "      <td>1</td>\n",
       "      <td>60</td>\n",
       "      <td>RL</td>\n",
       "      <td>65.0</td>\n",
       "      <td>WD</td>\n",
       "      <td>Normal</td>\n",
       "      <td>208500</td>\n",
       "    </tr>\n",
       "    <tr>\n",
       "      <th>1</th>\n",
       "      <td>2</td>\n",
       "      <td>20</td>\n",
       "      <td>RL</td>\n",
       "      <td>80.0</td>\n",
       "      <td>WD</td>\n",
       "      <td>Normal</td>\n",
       "      <td>181500</td>\n",
       "    </tr>\n",
       "    <tr>\n",
       "      <th>2</th>\n",
       "      <td>3</td>\n",
       "      <td>60</td>\n",
       "      <td>RL</td>\n",
       "      <td>68.0</td>\n",
       "      <td>WD</td>\n",
       "      <td>Normal</td>\n",
       "      <td>223500</td>\n",
       "    </tr>\n",
       "    <tr>\n",
       "      <th>3</th>\n",
       "      <td>4</td>\n",
       "      <td>70</td>\n",
       "      <td>RL</td>\n",
       "      <td>60.0</td>\n",
       "      <td>WD</td>\n",
       "      <td>Abnorml</td>\n",
       "      <td>140000</td>\n",
       "    </tr>\n",
       "  </tbody>\n",
       "</table>\n",
       "</div>"
      ],
      "text/plain": [
       "   Id  MSSubClass MSZoning  LotFrontage SaleType SaleCondition  SalePrice\n",
       "0   1          60       RL         65.0       WD        Normal     208500\n",
       "1   2          20       RL         80.0       WD        Normal     181500\n",
       "2   3          60       RL         68.0       WD        Normal     223500\n",
       "3   4          70       RL         60.0       WD       Abnorml     140000"
      ]
     },
     "execution_count": 4,
     "metadata": {},
     "output_type": "execute_result"
    }
   ],
   "source": [
    "train_data.iloc[0:4, [0, 1, 2, 3, -3, -2, -1]]"
   ]
  },
  {
   "cell_type": "code",
   "execution_count": 5,
   "metadata": {},
   "outputs": [],
   "source": [
    "##train_data.iloc[0:100, [6, 25, 26, 30, 31, 32, 33, 35, 42, 57, 58, 59, 60, 63, 64, 72, 73, 74]]"
   ]
  },
  {
   "cell_type": "markdown",
   "metadata": {},
   "source": [
    "We can see that in each example, the first feature is the ID. This helps the model identify each training example. While this is convenient, it doesn't carry any information for prediction purposes. Hence we remove it from the dataset before feeding the data into the network."
   ]
  },
  {
   "cell_type": "code",
   "execution_count": 6,
   "metadata": {
    "ExecuteTime": {
     "end_time": "2019-02-12T19:53:00.379027Z",
     "start_time": "2019-02-12T19:53:00.166246Z"
    },
    "attributes": {
     "classes": [],
     "id": "",
     "n": "30"
    }
   },
   "outputs": [],
   "source": [
    "all_features = pd.concat((train_data.iloc[:, 1:-1], test_data.iloc[:, 1:]))\n"
   ]
  },
  {
   "cell_type": "markdown",
   "metadata": {},
   "source": [
    "## Data Preprocessing\n",
    "\n",
    "As stated above, we have a wide variety of datatypes. Before we feed it into a deep network we need to perform some amount of processing. Let's start with the numerical features. We begin by replacing missing values with the mean. This is a reasonable strategy if features are missing at random. To adjust them to a common scale we rescale them to zero mean and unit variance. This is accomplished as follows:\n",
    "\n",
    "$$x \\leftarrow \\frac{x - \\mu}{\\sigma}$$\n",
    "\n",
    "To check that this transforms $x$ to data with zero mean and unit variance simply calculate $\\mathbf{E}[(x-\\mu)/\\sigma] = (\\mu - \\mu)/\\sigma = 0$. To check the variance we use $\\mathbf{E}[(x-\\mu)^2] = \\sigma^2$ and thus the transformed variable has unit variance. The reason for 'normalizing' the data is that it brings all features to the same order of magnitude. After all, we do not know *a priori* which features are likely to be relevant. Hence it makes sense to treat them equally."
   ]
  },
  {
   "cell_type": "code",
   "execution_count": 7,
   "metadata": {
    "ExecuteTime": {
     "end_time": "2019-02-12T19:53:01.109173Z",
     "start_time": "2019-02-12T19:53:00.389736Z"
    },
    "attributes": {
     "classes": [],
     "id": "",
     "n": "6"
    }
   },
   "outputs": [],
   "source": [
    "numeric_features = all_features.dtypes[all_features.dtypes != 'object'].index\n",
    "all_features[numeric_features] = all_features[numeric_features].apply(\n",
    "    lambda x: (x - x.mean()) / (x.std()))\n",
    "# after standardizing the data all means vanish, hence we can set missing values to 0\n",
    "all_features = all_features.fillna(0)\n"
   ]
  },
  {
   "cell_type": "markdown",
   "metadata": {},
   "source": [
    "Next we deal with discrete values. This includes variables such as 'MSZoning'. We replace them by a one-hot encoding in the same manner as how we transformed multiclass classification data into a vector of $0$ and $1$. For instance, 'MSZoning' assumes the values 'RL' and 'RM'. They map into vectors $(1,0)$ and $(0,1)$ respectively. Pandas does this automatically for us."
   ]
  },
  {
   "cell_type": "code",
   "execution_count": 8,
   "metadata": {
    "ExecuteTime": {
     "end_time": "2019-02-12T19:53:02.149003Z",
     "start_time": "2019-02-12T19:53:01.124831Z"
    },
    "attributes": {
     "classes": [],
     "id": "",
     "n": "7"
    }
   },
   "outputs": [
    {
     "data": {
      "text/plain": [
       "(2919, 354)"
      ]
     },
     "execution_count": 8,
     "metadata": {},
     "output_type": "execute_result"
    }
   ],
   "source": [
    "# Dummy_na=True refers to a missing value being a legal eigenvalue, and creates an indicative feature for it.\n",
    "all_features = pd.get_dummies(all_features, dummy_na=True)\n",
    "all_features.shape"
   ]
  },
  {
   "cell_type": "code",
   "execution_count": 9,
   "metadata": {},
   "outputs": [],
   "source": [
    "##all_features.iloc[0:200, [58, 59, 60, 63, 64, 72, 73, 74]]"
   ]
  },
  {
   "cell_type": "markdown",
   "metadata": {},
   "source": [
    "You can see that this conversion increases the number of features from 79 to 331. Finally, via the `values` attribute we can extract the NumPy format from the Pandas dataframe and convert it into MXNet's native representation - NDArray for training."
   ]
  },
  {
   "cell_type": "code",
   "execution_count": 10,
   "metadata": {
    "ExecuteTime": {
     "end_time": "2019-02-12T19:53:02.295819Z",
     "start_time": "2019-02-12T19:53:02.153731Z"
    },
    "attributes": {
     "classes": [],
     "id": "",
     "n": "9"
    }
   },
   "outputs": [
    {
     "name": "stdout",
     "output_type": "stream",
     "text": [
      "\n",
      "[[208500.]\n",
      " [181500.]\n",
      " [223500.]\n",
      " ...\n",
      " [266500.]\n",
      " [142125.]\n",
      " [147500.]]\n",
      "<NDArray 1460x1 @cpu(0)>\n"
     ]
    }
   ],
   "source": [
    "n_train = train_data.shape[0]\n",
    "##print(n_train)\n",
    "train_features = nd.array(all_features[:n_train].values)\n",
    "##print(all_features[:n_train].values)\n",
    "test_features = nd.array(all_features[n_train:].values)\n",
    "\n",
    "train_labels = nd.array(train_data.SalePrice.values).reshape((-1, 1))\n",
    "print(train_labels)"
   ]
  },
  {
   "cell_type": "markdown",
   "metadata": {},
   "source": [
    "## Training\n",
    "\n",
    "To get started we train a linear model with squared loss. This will obviously not lead to a competition winning submission but it provides a sanity check to see whether there's meaningful information in the data. It also amounts to a minimum baseline of how well we should expect any 'fancy' model to work."
   ]
  },
  {
   "cell_type": "code",
   "execution_count": 11,
   "metadata": {
    "ExecuteTime": {
     "end_time": "2019-02-12T19:53:02.347358Z",
     "start_time": "2019-02-12T19:53:02.310339Z"
    },
    "attributes": {
     "classes": [],
     "id": "",
     "n": "13"
    }
   },
   "outputs": [],
   "source": [
    "loss = gloss.L2Loss()\n",
    "\n",
    "def get_net():\n",
    "    net = nn.Sequential()\n",
    "    net.add(nn.Dense(1))\n",
    "    net.initialize()\n",
    "    return net"
   ]
  },
  {
   "cell_type": "markdown",
   "metadata": {},
   "source": [
    "House prices, like shares, are relative. That is, we probably care more about the relative error $\\frac{y - \\hat{y}}{y}$ than about the absolute error. For instance, getting a house price wrong by USD 100,000 is terrible in Rural Ohio, where the value of the house is USD 125,000. On the other hand, if we err by this amount in Los Altos Hills, California, we can be proud of the accuracy of our model (the median house price there exceeds 4 million).\n",
    "\n",
    "One way to address this problem is to measure the discrepancy in the logarithm of the price estimates. In fact, this is also the error that is being used to measure the quality in this competition. After all, a small value $\\delta$ of $\\log y - \\log \\hat{y}$ translates into $e^{-\\delta} \\leq \\frac{\\hat{y}}{y} \\leq e^\\delta$. This leads to the following loss function:\n",
    "\n",
    "$$L = \\sqrt{\\frac{1}{n}\\sum_{i=1}^n\\left(\\log y_i -\\log \\hat{y}_i\\right)^2}$$"
   ]
  },
  {
   "cell_type": "code",
   "execution_count": 11,
   "metadata": {
    "ExecuteTime": {
     "end_time": "2019-02-12T19:53:02.388615Z",
     "start_time": "2019-02-12T19:53:02.356508Z"
    },
    "attributes": {
     "classes": [],
     "id": "",
     "n": "11"
    }
   },
   "outputs": [],
   "source": [
    "def log_rmse(net, features, labels):\n",
    "    # To further stabilize the value when the logarithm is taken, set the value less than 1 as 1.\n",
    "    clipped_preds = nd.clip(net(features), 1, float('inf'))\n",
    "    rmse = nd.sqrt(2 * loss(clipped_preds.log(), labels.log()).mean())\n",
    "    return rmse.asscalar()"
   ]
  },
  {
   "cell_type": "markdown",
   "metadata": {},
   "source": [
    "Unlike in the previous sections, the following training functions use the Adam optimization algorithm.  Compared to the previously used mini-batch stochastic gradient descent, the Adam optimization algorithm is relatively less sensitive to learning rates.  This will be covered in further detail later on when we discuss the details on [Optimization Algorithms](../chapter_optimization/index.md) in a separate chapter."
   ]
  },
  {
   "cell_type": "code",
   "execution_count": 12,
   "metadata": {
    "ExecuteTime": {
     "end_time": "2019-02-12T19:53:02.478944Z",
     "start_time": "2019-02-12T19:53:02.410348Z"
    },
    "attributes": {
     "classes": [],
     "id": "",
     "n": "14"
    }
   },
   "outputs": [],
   "source": [
    "def train(net, train_features, train_labels, test_features, test_labels,\n",
    "          num_epochs, learning_rate, weight_decay, batch_size):\n",
    "    train_ls, test_ls = [], []\n",
    "    train_iter = gdata.DataLoader(gdata.ArrayDataset(\n",
    "        train_features, train_labels), batch_size, shuffle=True)\n",
    "    \n",
    "    # The Adam optimization algorithm is used here.\n",
    "    trainer = gluon.Trainer(net.collect_params(), 'adam', {\n",
    "        'learning_rate': learning_rate, 'wd': weight_decay})\n",
    "    for epoch in range(num_epochs):\n",
    "        for X, y in train_iter:\n",
    "            with autograd.record():\n",
    "                l = loss(net(X), y)\n",
    "            l.backward()\n",
    "            trainer.step(batch_size)\n",
    "        train_ls.append(log_rmse(net, train_features, train_labels))\n",
    "        if test_labels is not None:\n",
    "            test_ls.append(log_rmse(net, test_features, test_labels))\n",
    "    return train_ls, test_ls"
   ]
  },
  {
   "cell_type": "code",
   "execution_count": 13,
   "metadata": {},
   "outputs": [],
   "source": [
    "\n",
    "from sklearn.neural_network import MLPRegressor\n"
   ]
  },
  {
   "cell_type": "code",
   "execution_count": 15,
   "metadata": {},
   "outputs": [],
   "source": [
    "sk = MLPRegressor(hidden_layer_sizes=(200,),  activation='relu', solver='adam', batch_size='auto',\n",
    "    learning_rate='constant', learning_rate_init=0.6, max_iter=300, shuffle=True,\n",
    "    random_state=8, tol=0.01, verbose=True, warm_start=False, momentum=0.9, nesterovs_momentum=True,\n",
    "    early_stopping=False, validation_fraction=0.5, beta_1=0.9, beta_2=0.999, epsilon=1e-08)"
   ]
  },
  {
   "cell_type": "code",
   "execution_count": 16,
   "metadata": {},
   "outputs": [
    {
     "name": "stderr",
     "output_type": "stream",
     "text": [
      "/Users/mandizhao/.conda/envs/gluon/lib/python3.6/site-packages/sklearn/neural_network/multilayer_perceptron.py:1316: DataConversionWarning: A column-vector y was passed when a 1d array was expected. Please change the shape of y to (n_samples, ), for example using ravel().\n",
      "  y = column_or_1d(y, warn=True)\n"
     ]
    },
    {
     "name": "stdout",
     "output_type": "stream",
     "text": [
      "Iteration 1, loss = 15999848494.21873093\n",
      "Iteration 2, loss = 2501108990.94101954\n",
      "Iteration 3, loss = 1661303480.45949984\n",
      "Iteration 4, loss = 1442678688.50447154\n",
      "Iteration 5, loss = 748529838.61750972\n",
      "Iteration 6, loss = 547692108.43191576\n",
      "Iteration 7, loss = 545284145.81796670\n",
      "Iteration 8, loss = 481977896.14771551\n",
      "Iteration 9, loss = 432325239.52367252\n",
      "Iteration 10, loss = 414756133.82261413\n",
      "Iteration 11, loss = 396427759.26952088\n",
      "Iteration 12, loss = 375568874.63984704\n",
      "Iteration 13, loss = 363147604.08539236\n",
      "Iteration 14, loss = 346793134.40896720\n",
      "Iteration 15, loss = 338389985.88693422\n",
      "Iteration 16, loss = 329465882.74587137\n",
      "Iteration 17, loss = 318956692.48213047\n",
      "Iteration 18, loss = 310622072.85114294\n",
      "Iteration 19, loss = 302697452.74250787\n",
      "Iteration 20, loss = 304607005.02814889\n",
      "Iteration 21, loss = 307394636.33419341\n",
      "Iteration 22, loss = 295757645.90151328\n",
      "Iteration 23, loss = 276068783.05027127\n",
      "Iteration 24, loss = 261307631.36085334\n",
      "Iteration 25, loss = 254532004.68373731\n",
      "Iteration 26, loss = 241792998.68876347\n",
      "Iteration 27, loss = 232564821.12449068\n",
      "Iteration 28, loss = 222908647.09876984\n",
      "Iteration 29, loss = 214442676.66087630\n",
      "Iteration 30, loss = 210245721.72857285\n",
      "Iteration 31, loss = 198650112.04715225\n",
      "Iteration 32, loss = 189230180.49940389\n",
      "Iteration 33, loss = 182419262.42477286\n",
      "Iteration 34, loss = 172324548.64702421\n",
      "Iteration 35, loss = 174463349.17643330\n",
      "Iteration 36, loss = 167030408.05519590\n",
      "Iteration 37, loss = 169492560.09566334\n",
      "Iteration 38, loss = 162177816.52821141\n",
      "Iteration 39, loss = 151497497.35883176\n",
      "Iteration 40, loss = 143319709.31597441\n",
      "Iteration 41, loss = 137405687.48549852\n",
      "Iteration 42, loss = 135944440.70924026\n",
      "Iteration 43, loss = 132729867.15390342\n",
      "Iteration 44, loss = 133784472.22965780\n",
      "Iteration 45, loss = 123884189.60885704\n",
      "Iteration 46, loss = 122216605.34037061\n",
      "Iteration 47, loss = 118947615.75920317\n",
      "Iteration 48, loss = 115870089.29879154\n",
      "Iteration 49, loss = 111581640.60648869\n",
      "Iteration 50, loss = 110524619.81887816\n",
      "Iteration 51, loss = 107188147.71103311\n",
      "Iteration 52, loss = 102950459.77055588\n",
      "Iteration 53, loss = 102974849.34633122\n",
      "Iteration 54, loss = 99871130.95992081\n",
      "Iteration 55, loss = 98691596.02295342\n",
      "Iteration 56, loss = 113225865.80619122\n",
      "Iteration 57, loss = 101542845.15078865\n",
      "Iteration 58, loss = 98793470.58589748\n",
      "Iteration 59, loss = 98786861.49043851\n",
      "Iteration 60, loss = 92978570.67345393\n",
      "Iteration 61, loss = 91851075.62320195\n",
      "Iteration 62, loss = 91254018.91241491\n",
      "Iteration 63, loss = 93130515.48752455\n",
      "Iteration 64, loss = 88498695.83768269\n",
      "Iteration 65, loss = 88094015.87646945\n",
      "Iteration 66, loss = 85447003.39757340\n",
      "Iteration 67, loss = 85734843.88145015\n",
      "Iteration 68, loss = 81145590.78995878\n",
      "Iteration 69, loss = 81602496.26563562\n",
      "Iteration 70, loss = 80583687.71446894\n",
      "Iteration 71, loss = 79536502.36540385\n",
      "Iteration 72, loss = 81933880.67876089\n",
      "Iteration 73, loss = 83702352.23699850\n",
      "Iteration 74, loss = 78750743.02628072\n",
      "Iteration 75, loss = 77236926.34681790\n",
      "Iteration 76, loss = 73196573.50758229\n",
      "Iteration 77, loss = 74848919.09825136\n",
      "Iteration 78, loss = 73222377.43485896\n",
      "Iteration 79, loss = 71497296.61118385\n",
      "Iteration 80, loss = 72073104.32104217\n",
      "Iteration 81, loss = 71304792.80908680\n",
      "Iteration 82, loss = 70726500.69952424\n",
      "Iteration 83, loss = 72863277.78829321\n",
      "Iteration 84, loss = 68932551.76150540\n",
      "Iteration 85, loss = 68863913.88626601\n",
      "Iteration 86, loss = 68538547.56033713\n",
      "Iteration 87, loss = 68077655.55874801\n",
      "Iteration 88, loss = 65258413.57047928\n",
      "Iteration 89, loss = 65272803.87426962\n",
      "Iteration 90, loss = 66486047.69462878\n",
      "Iteration 91, loss = 69182913.37800926\n",
      "Iteration 92, loss = 69297910.17996775\n",
      "Iteration 93, loss = 62944577.55233739\n",
      "Iteration 94, loss = 62762398.25379124\n",
      "Iteration 95, loss = 62682473.23934641\n",
      "Iteration 96, loss = 60868368.98108894\n",
      "Iteration 97, loss = 59921633.30815013\n",
      "Iteration 98, loss = 59417528.09337245\n",
      "Iteration 99, loss = 61632709.63875143\n",
      "Iteration 100, loss = 58860062.32535229\n",
      "Iteration 101, loss = 56931569.97013053\n",
      "Iteration 102, loss = 57200737.45542978\n",
      "Iteration 103, loss = 56536140.98727744\n",
      "Iteration 104, loss = 57583064.64513475\n",
      "Iteration 105, loss = 59467273.65116281\n",
      "Iteration 106, loss = 57581626.90525541\n",
      "Iteration 107, loss = 54361125.27110159\n",
      "Iteration 108, loss = 58300044.79366469\n",
      "Iteration 109, loss = 63019370.22884478\n",
      "Iteration 110, loss = 59455814.21342474\n",
      "Iteration 111, loss = 57651358.25898834\n",
      "Iteration 112, loss = 56415034.21723937\n",
      "Iteration 113, loss = 54901745.14549749\n",
      "Iteration 114, loss = 52053177.17665816\n",
      "Iteration 115, loss = 51685704.16957116\n",
      "Iteration 116, loss = 50636705.78718320\n",
      "Iteration 117, loss = 50747006.71660484\n",
      "Iteration 118, loss = 52185369.38490099\n",
      "Iteration 119, loss = 52713542.22480865\n",
      "Iteration 120, loss = 50621816.74580578\n",
      "Iteration 121, loss = 49811468.32712124\n",
      "Iteration 122, loss = 48680397.16728210\n",
      "Iteration 123, loss = 50068696.94245480\n",
      "Iteration 124, loss = 50583197.09282061\n",
      "Iteration 125, loss = 49039503.82477830\n",
      "Iteration 126, loss = 48092119.51931578\n",
      "Iteration 127, loss = 48672081.22023246\n",
      "Iteration 128, loss = 45478210.74689076\n",
      "Iteration 129, loss = 46546442.24885631\n",
      "Iteration 130, loss = 47364100.87940686\n",
      "Iteration 131, loss = 45153354.33824091\n",
      "Iteration 132, loss = 44365071.37476795\n",
      "Iteration 133, loss = 43905266.58479168\n",
      "Iteration 134, loss = 44394589.46748816\n",
      "Iteration 135, loss = 44613182.37286052\n",
      "Iteration 136, loss = 45064859.06203575\n",
      "Iteration 137, loss = 45174330.81454952\n",
      "Iteration 138, loss = 44981745.02682017\n",
      "Iteration 139, loss = 45844318.71358379\n",
      "Iteration 140, loss = 43883123.62022025\n",
      "Iteration 141, loss = 42682029.52484594\n",
      "Iteration 142, loss = 44568448.93764246\n",
      "Iteration 143, loss = 43595194.86001093\n",
      "Iteration 144, loss = 42781842.19489403\n",
      "Iteration 145, loss = 43226672.70460733\n",
      "Iteration 146, loss = 39874995.78394876\n",
      "Iteration 147, loss = 39622017.56091369\n",
      "Iteration 148, loss = 39132398.35528936\n",
      "Iteration 149, loss = 38621571.85495588\n",
      "Iteration 150, loss = 39346304.52708410\n",
      "Iteration 151, loss = 40788434.68716160\n",
      "Iteration 152, loss = 40114233.58527232\n",
      "Iteration 153, loss = 38986706.20269640\n",
      "Iteration 154, loss = 40325839.86831269\n",
      "Iteration 155, loss = 39076835.47610171\n",
      "Iteration 156, loss = 38227855.18255189\n",
      "Iteration 157, loss = 37491384.13349790\n",
      "Iteration 158, loss = 36882507.04782434\n",
      "Iteration 159, loss = 36175185.34822710\n",
      "Iteration 160, loss = 36349352.79015090\n",
      "Iteration 161, loss = 36656052.58783876\n",
      "Iteration 162, loss = 35532142.41163636\n",
      "Iteration 163, loss = 36279951.82723235\n",
      "Iteration 164, loss = 37028263.37463506\n",
      "Iteration 165, loss = 36912854.70568684\n",
      "Iteration 166, loss = 34555809.81435450\n",
      "Iteration 167, loss = 34015675.54057149\n",
      "Iteration 168, loss = 35876890.45219731\n",
      "Iteration 169, loss = 33760648.39592633\n",
      "Iteration 170, loss = 35962987.77487131\n",
      "Iteration 171, loss = 34653721.96116196\n",
      "Iteration 172, loss = 37152461.92055925\n",
      "Iteration 173, loss = 35561757.24725527\n",
      "Iteration 174, loss = 33992080.16605819\n",
      "Iteration 175, loss = 35474802.99768555\n",
      "Iteration 176, loss = 33517035.47831437\n",
      "Iteration 177, loss = 33696644.47494456\n",
      "Iteration 178, loss = 34477343.48016755\n",
      "Iteration 179, loss = 33979897.14557187\n",
      "Iteration 180, loss = 37804313.67487405\n",
      "Iteration 181, loss = 33372126.06244296\n",
      "Iteration 182, loss = 33266737.17183617\n",
      "Iteration 183, loss = 31902181.03459525\n",
      "Iteration 184, loss = 31675418.42745088\n",
      "Iteration 185, loss = 32272791.87153574\n",
      "Iteration 186, loss = 33715881.81012275\n",
      "Iteration 187, loss = 32909130.02815005\n",
      "Iteration 188, loss = 32418769.24874300\n",
      "Iteration 189, loss = 32174035.13441835\n",
      "Iteration 190, loss = 32917387.50291081\n",
      "Iteration 191, loss = 31515720.09615401\n",
      "Iteration 192, loss = 31259911.02444102\n",
      "Iteration 193, loss = 32750970.21368788\n",
      "Iteration 194, loss = 30380396.25295958\n",
      "Iteration 195, loss = 30407384.68512144\n",
      "Iteration 196, loss = 29838711.23395380\n",
      "Iteration 197, loss = 29279698.08821847\n",
      "Iteration 198, loss = 30014953.64705188\n",
      "Iteration 199, loss = 30052892.04011956\n",
      "Iteration 200, loss = 28518176.68660401\n",
      "Iteration 201, loss = 31529444.03312921\n",
      "Iteration 202, loss = 30945824.61112409\n",
      "Iteration 203, loss = 30384195.60213095\n",
      "Iteration 204, loss = 30370112.74870537\n",
      "Iteration 205, loss = 31035782.78213926\n",
      "Iteration 206, loss = 28848334.36660324\n",
      "Iteration 207, loss = 28503299.36480879\n",
      "Iteration 208, loss = 28825639.75094984\n",
      "Iteration 209, loss = 28836467.15807402\n"
     ]
    },
    {
     "name": "stdout",
     "output_type": "stream",
     "text": [
      "Iteration 210, loss = 28413300.78448867\n",
      "Iteration 211, loss = 28795095.22710027\n",
      "Iteration 212, loss = 28243627.02450318\n",
      "Iteration 213, loss = 27552980.64407818\n",
      "Iteration 214, loss = 26982140.64817974\n",
      "Iteration 215, loss = 26706692.78828772\n",
      "Iteration 216, loss = 26379797.24500061\n",
      "Iteration 217, loss = 27295621.64276050\n",
      "Iteration 218, loss = 25705916.87606275\n",
      "Iteration 219, loss = 28661161.32196239\n",
      "Iteration 220, loss = 30083987.94977752\n",
      "Iteration 221, loss = 30441231.30657841\n",
      "Iteration 222, loss = 26492852.14589356\n",
      "Iteration 223, loss = 31625509.94867213\n",
      "Iteration 224, loss = 29985377.00024435\n",
      "Iteration 225, loss = 27331036.95456284\n",
      "Iteration 226, loss = 26701555.09060975\n",
      "Iteration 227, loss = 26166577.49072704\n",
      "Iteration 228, loss = 32252558.97321197\n",
      "Iteration 229, loss = 25257059.07061828\n",
      "Iteration 230, loss = 26763906.96540839\n",
      "Iteration 231, loss = 25034728.57728511\n",
      "Iteration 232, loss = 25092787.07373342\n",
      "Iteration 233, loss = 27031733.72834043\n",
      "Iteration 234, loss = 25436347.28710867\n",
      "Iteration 235, loss = 24331434.63897252\n",
      "Iteration 236, loss = 27443938.44201410\n",
      "Iteration 237, loss = 28617750.24931127\n",
      "Iteration 238, loss = 27757867.00573601\n",
      "Iteration 239, loss = 25650430.22337864\n",
      "Iteration 240, loss = 25061773.58329848\n",
      "Iteration 241, loss = 24021927.85163712\n",
      "Iteration 242, loss = 23932034.23770624\n",
      "Iteration 243, loss = 29186839.15616165\n",
      "Iteration 244, loss = 25866339.06354526\n",
      "Iteration 245, loss = 23929399.83242032\n",
      "Iteration 246, loss = 23414291.32116989\n",
      "Iteration 247, loss = 24658924.45975474\n",
      "Iteration 248, loss = 23460027.48366532\n",
      "Iteration 249, loss = 22346250.71064410\n",
      "Iteration 250, loss = 23224716.14172794\n",
      "Iteration 251, loss = 22573573.95661491\n",
      "Iteration 252, loss = 23246333.97467258\n",
      "Iteration 253, loss = 22172910.22674165\n",
      "Iteration 254, loss = 22217561.10263125\n",
      "Iteration 255, loss = 23048987.91832036\n",
      "Iteration 256, loss = 24865792.04171501\n",
      "Iteration 257, loss = 24900013.92594073\n",
      "Iteration 258, loss = 23102905.87852951\n",
      "Iteration 259, loss = 23068589.41835498\n",
      "Iteration 260, loss = 23399123.23164444\n",
      "Iteration 261, loss = 23452087.98346652\n",
      "Iteration 262, loss = 24505252.50082887\n",
      "Iteration 263, loss = 24502840.82480067\n",
      "Iteration 264, loss = 21332108.52706451\n",
      "Iteration 265, loss = 23137591.60894345\n",
      "Iteration 266, loss = 23354097.22081948\n",
      "Iteration 267, loss = 21792850.81591475\n",
      "Iteration 268, loss = 20511340.25516557\n",
      "Iteration 269, loss = 20901352.47654797\n",
      "Iteration 270, loss = 20008692.74494709\n",
      "Iteration 271, loss = 20330132.81565385\n",
      "Iteration 272, loss = 20834897.56753889\n",
      "Iteration 273, loss = 21140345.23665275\n",
      "Iteration 274, loss = 20712057.28171048\n",
      "Iteration 275, loss = 20356699.03140005\n",
      "Iteration 276, loss = 21110048.33434395\n",
      "Iteration 277, loss = 22883453.69096186\n",
      "Iteration 278, loss = 21151397.51234650\n",
      "Iteration 279, loss = 21185966.09700754\n",
      "Iteration 280, loss = 20560822.32656321\n",
      "Iteration 281, loss = 21020088.04587825\n",
      "Training loss did not improve more than tol=0.010000 for 10 consecutive epochs. Stopping.\n"
     ]
    },
    {
     "data": {
      "text/plain": [
       "MLPRegressor(activation='relu', alpha=0.0001, batch_size='auto', beta_1=0.9,\n",
       "       beta_2=0.999, early_stopping=False, epsilon=1e-08,\n",
       "       hidden_layer_sizes=(200,), learning_rate='constant',\n",
       "       learning_rate_init=0.6, max_iter=300, momentum=0.9,\n",
       "       n_iter_no_change=10, nesterovs_momentum=True, power_t=0.5,\n",
       "       random_state=8, shuffle=True, solver='adam', tol=0.01,\n",
       "       validation_fraction=0.5, verbose=True, warm_start=False)"
      ]
     },
     "execution_count": 16,
     "metadata": {},
     "output_type": "execute_result"
    }
   ],
   "source": [
    "np_features = train_features.asnumpy()\n",
    "##np_features = np_features.reshape(1460,354)\n",
    "np_labels = train_labels.asnumpy()\n",
    "np_labels = np_labels.reshape(1460,1)\n",
    "\n",
    "sk.fit(np_features, np_labels)"
   ]
  },
  {
   "cell_type": "code",
   "execution_count": 22,
   "metadata": {},
   "outputs": [
    {
     "name": "stdout",
     "output_type": "stream",
     "text": [
      "(1459,)\n"
     ]
    },
    {
     "data": {
      "image/png": "[encoded data removed]",
      "text/plain": [
       "<Figure size 432x288 with 1 Axes>"
      ]
     },
     "metadata": {
      "needs_background": "light"
     },
     "output_type": "display_data"
    }
   ],
   "source": [
    "import matplotlib.pyplot as plt\n",
    "np_tests= test_features.asnumpy()\n",
    "pr = sk.predict(np_tests) \n",
    "\n",
    "print(pr.shape)\n",
    "plt.plot(pr)\n",
    "test_data['SalePrice'] = pd.Series(pr.reshape(1, -1)[0])\n",
    "submission = pd.concat([test_data['Id'], test_data['SalePrice']], axis=1)\n",
    "submission.to_csv('submission.csv', index=False)"
   ]
  },
  {
   "cell_type": "code",
   "execution_count": 156,
   "metadata": {},
   "outputs": [
    {
     "data": {
      "text/plain": [
       "[<matplotlib.lines.Line2D at 0x12c5ced30>]"
      ]
     },
     "execution_count": 156,
     "metadata": {},
     "output_type": "execute_result"
    },
    {
     "data": {
      "image/png": "[encoded data removed]",
      "text/plain": [
       "<Figure size 432x288 with 1 Axes>"
      ]
     },
     "metadata": {
      "needs_background": "light"
     },
     "output_type": "display_data"
    }
   ],
   "source": [
    "plt.plot(np.arange(1,1461), np_labels.reshape(1460,) -pr)"
   ]
  },
  {
   "cell_type": "markdown",
   "metadata": {},
   "source": [
    "## k-Fold Cross-Validation\n",
    "\n",
    "The k-fold cross-validation was introduced in the section where we discussed how to deal with [“Model Selection, Underfitting and Overfitting\"](underfit-overfit.md). We will put this to good use to select the model design and to adjust the hyperparameters. We first need a function that returns the i-th fold of the data in a k-fold cros-validation procedure. It proceeds by slicing out the i-th segment as validation data and returning the rest as training data. Note - this is not the most efficient way of handling data and we would use something much smarter if the amount of data was considerably larger. But this would obscure the function of the code considerably and we thus omit it."
   ]
  },
  {
   "cell_type": "code",
   "execution_count": null,
   "metadata": {},
   "outputs": [],
   "source": []
  },
  {
   "cell_type": "code",
   "execution_count": 24,
   "metadata": {
    "ExecuteTime": {
     "end_time": "2019-02-12T19:53:02.558010Z",
     "start_time": "2019-02-12T19:53:02.507447Z"
    }
   },
   "outputs": [],
   "source": [
    "def get_k_fold_data(k, i, X, y):\n",
    "    assert k > 1\n",
    "    fold_size = X.shape[0] // k\n",
    "    X_train, y_train = None, None\n",
    "    for j in range(k):\n",
    "        idx = slice(j * fold_size, (j + 1) * fold_size)\n",
    "        X_part, y_part = X[idx, :], y[idx]\n",
    "        if j == i:\n",
    "            X_valid, y_valid = X_part, y_part\n",
    "        elif X_train is None:\n",
    "            X_train, y_train = X_part, y_part\n",
    "        else:\n",
    "            X_train = nd.concat(X_train, X_part, dim=0)\n",
    "            y_train = nd.concat(y_train, y_part, dim=0)\n",
    "    return X_train, y_train, X_valid, y_valid"
   ]
  },
  {
   "cell_type": "markdown",
   "metadata": {},
   "source": [
    "The training and verification error averages are returned when we train $k$ times in the k-fold cross-validation."
   ]
  },
  {
   "cell_type": "code",
   "execution_count": 25,
   "metadata": {
    "ExecuteTime": {
     "end_time": "2019-02-12T19:53:02.601248Z",
     "start_time": "2019-02-12T19:53:02.576663Z"
    },
    "attributes": {
     "classes": [],
     "id": "",
     "n": "15"
    }
   },
   "outputs": [],
   "source": [
    "def k_fold(k, X_train, y_train, num_epochs,\n",
    "           learning_rate, weight_decay, batch_size):\n",
    "    train_l_sum, valid_l_sum = 0, 0\n",
    "    for i in range(k):\n",
    "        data = get_k_fold_data(k, i, X_train, y_train)\n",
    "        net = get_net()\n",
    "        train_ls, valid_ls = train(net, *data, num_epochs, learning_rate,\n",
    "                                   weight_decay, batch_size)\n",
    "        train_l_sum += train_ls[-1]\n",
    "        valid_l_sum += valid_ls[-1]\n",
    "        if i == 0:\n",
    "            d2l.semilogy(range(1, num_epochs + 1), train_ls, 'epochs', 'rmse',\n",
    "                        range(1, num_epochs + 1), valid_ls,\n",
    "                        ['train', 'valid'])\n",
    "        print('fold %d, train rmse: %f, valid rmse: %f' % (\n",
    "            i, train_ls[-1], valid_ls[-1]))\n",
    "    return train_l_sum / k, valid_l_sum / k"
   ]
  },
  {
   "cell_type": "code",
   "execution_count": 26,
   "metadata": {},
   "outputs": [],
   "source": [
    "def k_fold2(k, X_train, y_train, num_epochs,\n",
    "           learning_rate, weight_decay, batch_size):\n",
    "    train_l_sum, valid_l_sum = 0, 0\n",
    "    for i in range(k):\n",
    "        data = get_k_fold_data(k, i, X_train, y_train)\n",
    "        net = get_net()\n",
    "        train_ls, valid_ls = train(net, *data, num_epochs, learning_rate,\n",
    "                                   weight_decay, batch_size)\n",
    "        train_l_sum += train_ls[-1]\n",
    "        valid_l_sum += valid_ls[-1]\n",
    "        if i == 0:\n",
    "            d2l.semilogy(range(1, num_epochs + 1), train_ls, 'epochs', 'rmse',\n",
    "                        range(1, num_epochs + 1), valid_ls,\n",
    "                        ['train', 'valid'])\n",
    "        print('fold %d, train rmse: %f, valid rmse: %f' % (\n",
    "            i, train_ls[-1], valid_ls[-1]))\n",
    "    return train_l_sum / k, valid_l_sum / k"
   ]
  },
  {
   "cell_type": "markdown",
   "metadata": {},
   "source": [
    "## Model Selection\n",
    "\n",
    "We pick a rather un-tuned set of hyperparameters and leave it up to the reader to improve the model considerably. Finding a good choice can take quite some time, depending on how many things one wants to optimize over. Within reason the k-fold crossvalidation approach is resilient against multiple testing. However, if we were to try out an unreasonably large number of options it might fail since we might just get lucky on the validation split with a particular set of hyperparameters."
   ]
  },
  {
   "cell_type": "code",
   "execution_count": 27,
   "metadata": {
    "ExecuteTime": {
     "end_time": "2019-02-12T19:53:02.603202Z",
     "start_time": "2019-02-12T19:52:28.070Z"
    },
    "attributes": {
     "classes": [],
     "id": "",
     "n": "16"
    }
   },
   "outputs": [
    {
     "ename": "NameError",
     "evalue": "name 'get_net' is not defined",
     "output_type": "error",
     "traceback": [
      "\u001b[0;31m---------------------------------------------------------------------------\u001b[0m",
      "\u001b[0;31mNameError\u001b[0m                                 Traceback (most recent call last)",
      "\u001b[0;32m<ipython-input-27-5458057aaa09>\u001b[0m in \u001b[0;36m<module>\u001b[0;34m\u001b[0m\n\u001b[1;32m      2\u001b[0m \u001b[0mtry_features\u001b[0m \u001b[0;34m=\u001b[0m \u001b[0mtrain_features\u001b[0m\u001b[0;34m[\u001b[0m\u001b[0;34m:\u001b[0m\u001b[0;36m60\u001b[0m\u001b[0;34m]\u001b[0m\u001b[0;34m\u001b[0m\u001b[0;34m\u001b[0m\u001b[0m\n\u001b[1;32m      3\u001b[0m train_l, valid_l = k_fold(k, train_features, train_labels, num_epochs, lr,\n\u001b[0;32m----> 4\u001b[0;31m                           weight_decay, batch_size)\n\u001b[0m\u001b[1;32m      5\u001b[0m print('%d-fold validation: avg train rmse: %f, avg valid rmse: %f'\n\u001b[1;32m      6\u001b[0m       % (k, train_l, valid_l))\n",
      "\u001b[0;32m<ipython-input-25-a40c6ca99f5f>\u001b[0m in \u001b[0;36mk_fold\u001b[0;34m(k, X_train, y_train, num_epochs, learning_rate, weight_decay, batch_size)\u001b[0m\n\u001b[1;32m      4\u001b[0m     \u001b[0;32mfor\u001b[0m \u001b[0mi\u001b[0m \u001b[0;32min\u001b[0m \u001b[0mrange\u001b[0m\u001b[0;34m(\u001b[0m\u001b[0mk\u001b[0m\u001b[0;34m)\u001b[0m\u001b[0;34m:\u001b[0m\u001b[0;34m\u001b[0m\u001b[0;34m\u001b[0m\u001b[0m\n\u001b[1;32m      5\u001b[0m         \u001b[0mdata\u001b[0m \u001b[0;34m=\u001b[0m \u001b[0mget_k_fold_data\u001b[0m\u001b[0;34m(\u001b[0m\u001b[0mk\u001b[0m\u001b[0;34m,\u001b[0m \u001b[0mi\u001b[0m\u001b[0;34m,\u001b[0m \u001b[0mX_train\u001b[0m\u001b[0;34m,\u001b[0m \u001b[0my_train\u001b[0m\u001b[0;34m)\u001b[0m\u001b[0;34m\u001b[0m\u001b[0;34m\u001b[0m\u001b[0m\n\u001b[0;32m----> 6\u001b[0;31m         \u001b[0mnet\u001b[0m \u001b[0;34m=\u001b[0m \u001b[0mget_net\u001b[0m\u001b[0;34m(\u001b[0m\u001b[0;34m)\u001b[0m\u001b[0;34m\u001b[0m\u001b[0;34m\u001b[0m\u001b[0m\n\u001b[0m\u001b[1;32m      7\u001b[0m         train_ls, valid_ls = train(net, *data, num_epochs, learning_rate,\n\u001b[1;32m      8\u001b[0m                                    weight_decay, batch_size)\n",
      "\u001b[0;31mNameError\u001b[0m: name 'get_net' is not defined"
     ]
    }
   ],
   "source": [
    "k, num_epochs, lr, weight_decay, batch_size = 5, 100, 0.5, 0.5, 100\n",
    "try_features = train_features[:60]\n",
    "train_l, valid_l = k_fold(k, train_features, train_labels, num_epochs, lr,\n",
    "                          weight_decay, batch_size)\n",
    "print('%d-fold validation: avg train rmse: %f, avg valid rmse: %f'\n",
    "      % (k, train_l, valid_l))"
   ]
  },
  {
   "cell_type": "markdown",
   "metadata": {},
   "source": [
    "You will notice that sometimes the number of training errors for a set of hyper-parameters can be very low, while the number of errors for the $K$-fold cross validation may be higher. This is most likely a consequence of overfitting. Therefore, when we reduce the amount of training errors, we need to check whether the amount of errors in the k-fold cross-validation have also been reduced accordingly.\n",
    "\n",
    "##  Predict and Submit\n",
    "\n",
    "Now that we know what a good choice of hyperparameters should be, we might as well use all the data to train on it (rather than just $1-1/k$ of the data that is used in the crossvalidation slices). The model that we obtain in this way can then be applied to the test set. Saving the estimates in a CSV file will simplify uploading the results to Kaggle."
   ]
  },
  {
   "cell_type": "code",
   "execution_count": 95,
   "metadata": {
    "ExecuteTime": {
     "end_time": "2019-02-12T19:53:02.605253Z",
     "start_time": "2019-02-12T19:52:28.073Z"
    },
    "attributes": {
     "classes": [],
     "id": "",
     "n": "18"
    }
   },
   "outputs": [],
   "source": [
    "def train_and_pred(train_features, test_feature, train_labels, test_data,\n",
    "                   num_epochs, lr, weight_decay, batch_size):\n",
    "    net = get_net()\n",
    "    train_ls, _ = train(net, train_features, train_labels, None, None,\n",
    "                        num_epochs, lr, weight_decay, batch_size)\n",
    "    d2l.semilogy(range(1, num_epochs + 1), train_ls, 'epochs', 'rmse')\n",
    "    print('train rmse %f' % train_ls[-1])\n",
    "    # apply the network to the test set\n",
    "    preds = net(test_features).asnumpy()\n",
    "    # reformat it for export to Kaggle\n",
    "    test_data['SalePrice'] = pd.Series(preds.reshape(1, -1)[0])\n",
    "    submission = pd.concat([test_data['Id'], test_data['SalePrice']], axis=1)\n",
    "    submission.to_csv('submission.csv', index=False)"
   ]
  },
  {
   "cell_type": "markdown",
   "metadata": {},
   "source": [
    "Let's invoke the model. A good sanity check is to see whether the predictions on the test set resemble those of the k-fold crossvalication process. If they do, it's time to upload them to Kaggle."
   ]
  },
  {
   "cell_type": "code",
   "execution_count": 160,
   "metadata": {
    "ExecuteTime": {
     "end_time": "2019-02-12T19:53:02.607757Z",
     "start_time": "2019-02-12T19:52:28.075Z"
    },
    "attributes": {
     "classes": [],
     "id": "",
     "n": "19"
    }
   },
   "outputs": [
    {
     "ename": "AttributeError",
     "evalue": "'MLPRegressor' object has no attribute 'Sequential'",
     "output_type": "error",
     "traceback": [
      "\u001b[0;31m---------------------------------------------------------------------------\u001b[0m",
      "\u001b[0;31mAttributeError\u001b[0m                            Traceback (most recent call last)",
      "\u001b[0;32m<ipython-input-160-4d6f9c0f0a61>\u001b[0m in \u001b[0;36m<module>\u001b[0;34m\u001b[0m\n\u001b[1;32m      1\u001b[0m train_and_pred(train_features, test_features, train_labels, test_data,\n\u001b[0;32m----> 2\u001b[0;31m                num_epochs, lr, weight_decay, batch_size)\n\u001b[0m",
      "\u001b[0;32m<ipython-input-95-e08c6735d786>\u001b[0m in \u001b[0;36mtrain_and_pred\u001b[0;34m(train_features, test_feature, train_labels, test_data, num_epochs, lr, weight_decay, batch_size)\u001b[0m\n\u001b[1;32m      1\u001b[0m def train_and_pred(train_features, test_feature, train_labels, test_data,\n\u001b[1;32m      2\u001b[0m                    num_epochs, lr, weight_decay, batch_size):\n\u001b[0;32m----> 3\u001b[0;31m     \u001b[0mnet\u001b[0m \u001b[0;34m=\u001b[0m \u001b[0mget_net\u001b[0m\u001b[0;34m(\u001b[0m\u001b[0;34m)\u001b[0m\u001b[0;34m\u001b[0m\u001b[0;34m\u001b[0m\u001b[0m\n\u001b[0m\u001b[1;32m      4\u001b[0m     train_ls, _ = train(net, train_features, train_labels, None, None,\n\u001b[1;32m      5\u001b[0m                         num_epochs, lr, weight_decay, batch_size)\n",
      "\u001b[0;32m<ipython-input-11-cebf5d283ac5>\u001b[0m in \u001b[0;36mget_net\u001b[0;34m()\u001b[0m\n\u001b[1;32m      2\u001b[0m \u001b[0;34m\u001b[0m\u001b[0m\n\u001b[1;32m      3\u001b[0m \u001b[0;32mdef\u001b[0m \u001b[0mget_net\u001b[0m\u001b[0;34m(\u001b[0m\u001b[0;34m)\u001b[0m\u001b[0;34m:\u001b[0m\u001b[0;34m\u001b[0m\u001b[0;34m\u001b[0m\u001b[0m\n\u001b[0;32m----> 4\u001b[0;31m     \u001b[0mnet\u001b[0m \u001b[0;34m=\u001b[0m \u001b[0mnn\u001b[0m\u001b[0;34m.\u001b[0m\u001b[0mSequential\u001b[0m\u001b[0;34m(\u001b[0m\u001b[0;34m)\u001b[0m\u001b[0;34m\u001b[0m\u001b[0;34m\u001b[0m\u001b[0m\n\u001b[0m\u001b[1;32m      5\u001b[0m     \u001b[0mnet\u001b[0m\u001b[0;34m.\u001b[0m\u001b[0madd\u001b[0m\u001b[0;34m(\u001b[0m\u001b[0mnn\u001b[0m\u001b[0;34m.\u001b[0m\u001b[0mDense\u001b[0m\u001b[0;34m(\u001b[0m\u001b[0;36m1\u001b[0m\u001b[0;34m)\u001b[0m\u001b[0;34m)\u001b[0m\u001b[0;34m\u001b[0m\u001b[0;34m\u001b[0m\u001b[0m\n\u001b[1;32m      6\u001b[0m     \u001b[0mnet\u001b[0m\u001b[0;34m.\u001b[0m\u001b[0minitialize\u001b[0m\u001b[0;34m(\u001b[0m\u001b[0;34m)\u001b[0m\u001b[0;34m\u001b[0m\u001b[0;34m\u001b[0m\u001b[0m\n",
      "\u001b[0;31mAttributeError\u001b[0m: 'MLPRegressor' object has no attribute 'Sequential'"
     ]
    }
   ],
   "source": [
    "train_and_pred(train_features, test_features, train_labels, test_data,\n",
    "               num_epochs, lr, weight_decay, batch_size)"
   ]
  },
  {
   "cell_type": "markdown",
   "metadata": {},
   "source": [
    "A file, `submission.csv` will be generated by the code above (CSV is one of the file formats accepted by Kaggle).  Next, we can submit our predictions on Kaggle and compare them to the actual house price (label) on the testing data set, checking for errors. The steps are quite simple:\n",
    "\n",
    "* Log in to the Kaggle website and visit the House Price Prediction Competition page.\n",
    "* Click the “Submit Predictions” or “Late Submission” button on the right.\n",
    "* Click the “Upload Submission File” button in the dashed box at the bottom of the page and select the prediction file you wish to upload.\n",
    "* Click the “Make Submission” button at the bottom of the page to view your results.\n",
    "\n",
    "![](kaggle_submit2.png)\n",
    "\n",
    "## Hints\n",
    "\n",
    "1. Can you improve your model by minimizing the log-price directly? What happens if you try to predict the log price rather than the price?\n",
    "1. Is it always a good idea to replace missing values by their mean? Hint - can you construct a situation where the values are not missing at random?\n",
    "1. Find a better representation to deal with missing values. Hint - What happens if you add an indicator variable?\n",
    "1. Improve the score on Kaggle by tuning the hyperparameters through k-fold crossvalidation.\n",
    "1. Improve the score by improving the model (layers, regularization, dropout).\n",
    "1. What happens if we do not standardize the continuous numerical features like we have done in this section?\n",
    "\n",
    "Note for converting this notebook into PDF. If you use 'File -> Download as -> PDF', you may get the error that svg cannot converted because inkscape is not installed and cannot find PNG images. The easiest way is printing this notebook as a PDF in your browser. Or, you can install inkscape to convert SVG (On macOS, you may `brew cask install xquartz inkscape`, on Ubuntu, you may `sudo apt-get install inkscape`) and change the image URL to local filenames. "
   ]
  },
  {
   "cell_type": "code",
   "execution_count": null,
   "metadata": {},
   "outputs": [],
   "source": []
  }
 ],
 "metadata": {
  "kernelspec": {
   "display_name": "Python 3",
   "language": "python",
   "name": "python3"
  },
  "language_info": {
   "codemirror_mode": {
    "name": "ipython",
    "version": 3
   },
   "file_extension": ".py",
   "mimetype": "text/x-python",
   "name": "python",
   "nbconvert_exporter": "python",
   "pygments_lexer": "ipython3",
   "version": "3.6.8"
  }
 },
 "nbformat": 4,
 "nbformat_minor": 2
}
